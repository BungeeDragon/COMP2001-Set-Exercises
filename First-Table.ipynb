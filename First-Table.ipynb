{
    "metadata": {
        "kernelspec": {
            "name": "SQL",
            "display_name": "SQL",
            "language": "sql"
        },
        "language_info": {
            "name": "sql",
            "version": ""
        }
    },
    "nbformat_minor": 2,
    "nbformat": 4,
    "cells": [
        {
            "cell_type": "code",
            "source": [
                "IF OBJECT_ID(N'dbo.Users', N'U') IS NOT NULL \n",
                "BEGIN\n",
                "\tDROP TABLE dbo.Users; \n",
                "END\n",
                "CREATE TABLE dbo.Users\n",
                "(\n",
                "    UserNo INT NOT NULL,\n",
                "    Username INT NOT NULL,\n",
                "    Email INT NOT NULL,\n",
                "\n",
                "    CONSTRAINT pk_Users PRIMARY KEY (UserNo)\n",
                ");\n",
                "\n",
                "INSERT INTO dbo.Users (UserNo, Username, Email)\n",
                "VALUES (1, 'Grace Hopper', 'grace@plymouth.ac.uk');\n",
                "INSERT INTO dbo.Users (UserNo, Username, Email)\n",
                "VALUES (2, 'Tim Berners-Lee', 'tim@plymouth.ac.uk');\n",
                "INSERT INTO dbo.Users (UserNo, Username, Email)\n",
                "VALUES (3, 'Ada Lovelace', 'ada@plymouth.ac.uk');\n",
                "\n",
                "IF OBJECT_ID(N'dbo.OrderDetails', N'U') IS NOT NULL \n",
                "BEGIN\n",
                "\tDROP TABLE dbo.OrderDetails; \n",
                "END\n",
                "\n",
                "CREATE TABLE dbo.OrderDetails \n",
                "( \n",
                "    OrderId INT NOT NULL, \n",
                "    ProductId INT NOT NULL,     \n",
                "    Quantity INT NOT NULL \n",
                "        CHECK(Quantity <> 0), \n",
                "CONSTRAINT PK_OrderDetails PRIMARY KEY (OrderId, ProductId) \n",
                "); \n",
                "\n",
                "INSERT INTO dbo.OrderDetails(OrderId, ProductId, Quantity)\n",
                "VALUES(1, 1, 20);\n",
                "INSERT INTO dbo.OrderDetails(OrderId, ProductId, Quantity)\n",
                "VALUES(2, 2, 10);\n",
                "INSERT INTO dbo.OrderDetails(OrderId, ProductId, Quantity)\n",
                "VALUES(3, 3, 5);\n",
                "\n",
                "IF OBJECT_ID(N'dbo.Products', N'U') IS NOT NULL \n",
                "BEGIN\n",
                "\tDROP TABLE dbo.Products; \n",
                "END\n",
                "\n",
                "CREATE TABLE dbo.Products\n",
                "(\n",
                "\tProductId INT IDENTITY(1,1) not null,\n",
                "\tProduct_Details VARCHAR (Max) not null,\n",
                "\tPrice FLOAT not null,\n",
                "\tQuantity int not null,\n",
                "\tCONSTRAINT PK_Products PRIMARY KEY (ProductId)\n",
                ");\n",
                "\n",
                "INSERT INTO dbo.Products(Product_Details, Price, Quantity)\n",
                "VALUES('Pens - Black biro',0.30, 200);\n",
                "INSERT INTO dbo.Products(Product_Details, Price, Quantity)\n",
                "VALUES('Pens - Green biro',0.30, 200);\n",
                "INSERT INTO dbo.Products(Product_Details, Price, Quantity)\n",
                "VALUES('Pens - Red biro',0.30, 200);"
            ],
            "metadata": {
                "azdata_cell_guid": "93080474-3619-46f6-aa0d-d072ce6a3249",
                "language": "sql"
            },
            "outputs": [],
            "execution_count": null
        }
    ]
}